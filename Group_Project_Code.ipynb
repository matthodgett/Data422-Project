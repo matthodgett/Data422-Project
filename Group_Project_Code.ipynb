{
 "cells": [
  {
   "cell_type": "markdown",
   "metadata": {},
   "source": [
    "## Group Project Code:"
   ]
  },
  {
   "cell_type": "code",
   "execution_count": 1,
   "metadata": {},
   "outputs": [
    {
     "name": "stderr",
     "output_type": "stream",
     "text": [
      "── \u001b[1mAttaching packages\u001b[22m ─────────────────────────────────────── tidyverse 1.2.1 ──\n",
      "\u001b[32m✔\u001b[39m \u001b[34mggplot2\u001b[39m 3.2.0     \u001b[32m✔\u001b[39m \u001b[34mpurrr  \u001b[39m 0.3.2\n",
      "\u001b[32m✔\u001b[39m \u001b[34mtibble \u001b[39m 2.1.3     \u001b[32m✔\u001b[39m \u001b[34mdplyr  \u001b[39m 0.8.3\n",
      "\u001b[32m✔\u001b[39m \u001b[34mtidyr  \u001b[39m 0.8.3     \u001b[32m✔\u001b[39m \u001b[34mstringr\u001b[39m 1.4.0\n",
      "\u001b[32m✔\u001b[39m \u001b[34mreadr  \u001b[39m 1.3.1     \u001b[32m✔\u001b[39m \u001b[34mforcats\u001b[39m 0.4.0\n",
      "── \u001b[1mConflicts\u001b[22m ────────────────────────────────────────── tidyverse_conflicts() ──\n",
      "\u001b[31m✖\u001b[39m \u001b[34mdplyr\u001b[39m::\u001b[32mfilter()\u001b[39m masks \u001b[34mstats\u001b[39m::filter()\n",
      "\u001b[31m✖\u001b[39m \u001b[34mdplyr\u001b[39m::\u001b[32mlag()\u001b[39m    masks \u001b[34mstats\u001b[39m::lag()\n"
     ]
    }
   ],
   "source": [
    "library(tidyverse)"
   ]
  },
  {
   "cell_type": "code",
   "execution_count": 22,
   "metadata": {},
   "outputs": [
    {
     "name": "stderr",
     "output_type": "stream",
     "text": [
      "Warning message:\n",
      "“Missing column names filled in: 'X1' [1], 'X2' [2]”Warning message:\n",
      "“Duplicated column names deduplicated: 'Ambient and household air pollution attributable death rate (per 100 000 population)' => 'Ambient and household air pollution attributable death rate (per 100 000 population)_1' [4], 'Ambient and household air pollution attributable death rate (per 100 000 population)' => 'Ambient and household air pollution attributable death rate (per 100 000 population)_2' [5], 'Ambient and household air pollution attributable death rate (per 100 000 population, age-standardized)' => 'Ambient and household air pollution attributable death rate (per 100 000 population, age-standardized)_1' [7], 'Ambient and household air pollution attributable death rate (per 100 000 population, age-standardized)' => 'Ambient and household air pollution attributable death rate (per 100 000 population, age-standardized)_2' [8]”Parsed with column specification:\n",
      "cols(\n",
      "  X1 = \u001b[31mcol_character()\u001b[39m,\n",
      "  X2 = \u001b[31mcol_character()\u001b[39m,\n",
      "  `Ambient and household air pollution attributable death rate (per 100 000 population)` = \u001b[31mcol_character()\u001b[39m,\n",
      "  `Ambient and household air pollution attributable death rate (per 100 000 population)_1` = \u001b[31mcol_character()\u001b[39m,\n",
      "  `Ambient and household air pollution attributable death rate (per 100 000 population)_2` = \u001b[31mcol_character()\u001b[39m,\n",
      "  `Ambient and household air pollution attributable death rate (per 100 000 population, age-standardized)` = \u001b[31mcol_character()\u001b[39m,\n",
      "  `Ambient and household air pollution attributable death rate (per 100 000 population, age-standardized)_1` = \u001b[31mcol_character()\u001b[39m,\n",
      "  `Ambient and household air pollution attributable death rate (per 100 000 population, age-standardized)_2` = \u001b[31mcol_character()\u001b[39m\n",
      ")\n"
     ]
    }
   ],
   "source": [
    "# See if we can get away with loading as regular csv file\n",
    "Pollution <- read_csv(\"Pollution.csv\")"
   ]
  },
  {
   "cell_type": "code",
   "execution_count": 23,
   "metadata": {},
   "outputs": [
    {
     "data": {
      "text/html": [
       "<table>\n",
       "<caption>A tibble: 6 × 8</caption>\n",
       "<thead>\n",
       "\t<tr><th scope=col>X1</th><th scope=col>X2</th><th scope=col>Ambient and household air pollution attributable death rate (per 100 000 population)</th><th scope=col>Ambient and household air pollution attributable death rate (per 100 000 population)_1</th><th scope=col>Ambient and household air pollution attributable death rate (per 100 000 population)_2</th><th scope=col>Ambient and household air pollution attributable death rate (per 100 000 population, age-standardized)</th><th scope=col>Ambient and household air pollution attributable death rate (per 100 000 population, age-standardized)_1</th><th scope=col>Ambient and household air pollution attributable death rate (per 100 000 population, age-standardized)_2</th></tr>\n",
       "\t<tr><th scope=col>&lt;chr&gt;</th><th scope=col>&lt;chr&gt;</th><th scope=col>&lt;chr&gt;</th><th scope=col>&lt;chr&gt;</th><th scope=col>&lt;chr&gt;</th><th scope=col>&lt;chr&gt;</th><th scope=col>&lt;chr&gt;</th><th scope=col>&lt;chr&gt;</th></tr>\n",
       "</thead>\n",
       "<tbody>\n",
       "\t<tr><td>NA         </td><td>NA                             </td><td>2016       </td><td>2016       </td><td>2016       </td><td>2016         </td><td>2016         </td><td>2016         </td></tr>\n",
       "\t<tr><td>Country    </td><td>Cause                          </td><td>Both sexes </td><td>Male       </td><td>Female     </td><td>Both sexes   </td><td>Male         </td><td>Female       </td></tr>\n",
       "\t<tr><td>Afghanistan</td><td>Total                          </td><td>95[ 85–104]</td><td>96[ 85–106]</td><td>95[ 85–104]</td><td>211[ 189–231]</td><td>229[ 205–254]</td><td>195[ 174–214]</td></tr>\n",
       "\t<tr><td>Afghanistan</td><td>Lower respiratory infections   </td><td>31[ 26–36] </td><td>29[ 24–34] </td><td>33[ 27–38] </td><td>32[ 26–36]   </td><td>33[ 27–38]   </td><td>31[ 25–35]   </td></tr>\n",
       "\t<tr><td>Afghanistan</td><td>Trachea, bronchus, lung cancers</td><td>2[ 1–2]    </td><td>2[ 2–3]    </td><td>1[ 1–1]    </td><td>4[ 3–5]      </td><td>6[ 4–7]      </td><td>2[ 2–3]      </td></tr>\n",
       "\t<tr><td>Afghanistan</td><td>Ischaemic heart disease        </td><td>39[ 33–44] </td><td>42[ 36–48] </td><td>35[ 30–39] </td><td>107[ 92–121] </td><td>120[ 103–138]</td><td>94[ 81–106]  </td></tr>\n",
       "</tbody>\n",
       "</table>\n"
      ],
      "text/latex": [
       "A tibble: 6 × 8\n",
       "\\begin{tabular}{r|llllllll}\n",
       " X1 & X2 & Ambient and household air pollution attributable death rate (per 100 000 population) & Ambient and household air pollution attributable death rate (per 100 000 population)\\_1 & Ambient and household air pollution attributable death rate (per 100 000 population)\\_2 & Ambient and household air pollution attributable death rate (per 100 000 population, age-standardized) & Ambient and household air pollution attributable death rate (per 100 000 population, age-standardized)\\_1 & Ambient and household air pollution attributable death rate (per 100 000 population, age-standardized)\\_2\\\\\n",
       " <chr> & <chr> & <chr> & <chr> & <chr> & <chr> & <chr> & <chr>\\\\\n",
       "\\hline\n",
       "\t NA          & NA                              & 2016        & 2016        & 2016        & 2016          & 2016          & 2016         \\\\\n",
       "\t Country     & Cause                           & Both sexes  & Male        & Female      & Both sexes    & Male          & Female       \\\\\n",
       "\t Afghanistan & Total                           & 95{[} 85–104{]} & 96{[} 85–106{]} & 95{[} 85–104{]} & 211{[} 189–231{]} & 229{[} 205–254{]} & 195{[} 174–214{]}\\\\\n",
       "\t Afghanistan & Lower respiratory infections    & 31{[} 26–36{]}  & 29{[} 24–34{]}  & 33{[} 27–38{]}  & 32{[} 26–36{]}    & 33{[} 27–38{]}    & 31{[} 25–35{]}   \\\\\n",
       "\t Afghanistan & Trachea, bronchus, lung cancers & 2{[} 1–2{]}     & 2{[} 2–3{]}     & 1{[} 1–1{]}     & 4{[} 3–5{]}       & 6{[} 4–7{]}       & 2{[} 2–3{]}      \\\\\n",
       "\t Afghanistan & Ischaemic heart disease         & 39{[} 33–44{]}  & 42{[} 36–48{]}  & 35{[} 30–39{]}  & 107{[} 92–121{]}  & 120{[} 103–138{]} & 94{[} 81–106{]}  \\\\\n",
       "\\end{tabular}\n"
      ],
      "text/markdown": [
       "\n",
       "A tibble: 6 × 8\n",
       "\n",
       "| X1 &lt;chr&gt; | X2 &lt;chr&gt; | Ambient and household air pollution attributable death rate (per 100 000 population) &lt;chr&gt; | Ambient and household air pollution attributable death rate (per 100 000 population)_1 &lt;chr&gt; | Ambient and household air pollution attributable death rate (per 100 000 population)_2 &lt;chr&gt; | Ambient and household air pollution attributable death rate (per 100 000 population, age-standardized) &lt;chr&gt; | Ambient and household air pollution attributable death rate (per 100 000 population, age-standardized)_1 &lt;chr&gt; | Ambient and household air pollution attributable death rate (per 100 000 population, age-standardized)_2 &lt;chr&gt; |\n",
       "|---|---|---|---|---|---|---|---|\n",
       "| NA          | NA                              | 2016        | 2016        | 2016        | 2016          | 2016          | 2016          |\n",
       "| Country     | Cause                           | Both sexes  | Male        | Female      | Both sexes    | Male          | Female        |\n",
       "| Afghanistan | Total                           | 95[ 85–104] | 96[ 85–106] | 95[ 85–104] | 211[ 189–231] | 229[ 205–254] | 195[ 174–214] |\n",
       "| Afghanistan | Lower respiratory infections    | 31[ 26–36]  | 29[ 24–34]  | 33[ 27–38]  | 32[ 26–36]    | 33[ 27–38]    | 31[ 25–35]    |\n",
       "| Afghanistan | Trachea, bronchus, lung cancers | 2[ 1–2]     | 2[ 2–3]     | 1[ 1–1]     | 4[ 3–5]       | 6[ 4–7]       | 2[ 2–3]       |\n",
       "| Afghanistan | Ischaemic heart disease         | 39[ 33–44]  | 42[ 36–48]  | 35[ 30–39]  | 107[ 92–121]  | 120[ 103–138] | 94[ 81–106]   |\n",
       "\n"
      ],
      "text/plain": [
       "  X1          X2                             \n",
       "1 NA          NA                             \n",
       "2 Country     Cause                          \n",
       "3 Afghanistan Total                          \n",
       "4 Afghanistan Lower respiratory infections   \n",
       "5 Afghanistan Trachea, bronchus, lung cancers\n",
       "6 Afghanistan Ischaemic heart disease        \n",
       "  Ambient and household air pollution attributable death rate (per 100 000 population)\n",
       "1 2016                                                                                \n",
       "2 Both sexes                                                                          \n",
       "3 95[ 85–104]                                                                         \n",
       "4 31[ 26–36]                                                                          \n",
       "5 2[ 1–2]                                                                             \n",
       "6 39[ 33–44]                                                                          \n",
       "  Ambient and household air pollution attributable death rate (per 100 000 population)_1\n",
       "1 2016                                                                                  \n",
       "2 Male                                                                                  \n",
       "3 96[ 85–106]                                                                           \n",
       "4 29[ 24–34]                                                                            \n",
       "5 2[ 2–3]                                                                               \n",
       "6 42[ 36–48]                                                                            \n",
       "  Ambient and household air pollution attributable death rate (per 100 000 population)_2\n",
       "1 2016                                                                                  \n",
       "2 Female                                                                                \n",
       "3 95[ 85–104]                                                                           \n",
       "4 33[ 27–38]                                                                            \n",
       "5 1[ 1–1]                                                                               \n",
       "6 35[ 30–39]                                                                            \n",
       "  Ambient and household air pollution attributable death rate (per 100 000 population, age-standardized)\n",
       "1 2016                                                                                                  \n",
       "2 Both sexes                                                                                            \n",
       "3 211[ 189–231]                                                                                         \n",
       "4 32[ 26–36]                                                                                            \n",
       "5 4[ 3–5]                                                                                               \n",
       "6 107[ 92–121]                                                                                          \n",
       "  Ambient and household air pollution attributable death rate (per 100 000 population, age-standardized)_1\n",
       "1 2016                                                                                                    \n",
       "2 Male                                                                                                    \n",
       "3 229[ 205–254]                                                                                           \n",
       "4 33[ 27–38]                                                                                              \n",
       "5 6[ 4–7]                                                                                                 \n",
       "6 120[ 103–138]                                                                                           \n",
       "  Ambient and household air pollution attributable death rate (per 100 000 population, age-standardized)_2\n",
       "1 2016                                                                                                    \n",
       "2 Female                                                                                                  \n",
       "3 195[ 174–214]                                                                                           \n",
       "4 31[ 25–35]                                                                                              \n",
       "5 2[ 2–3]                                                                                                 \n",
       "6 94[ 81–106]                                                                                             "
      ]
     },
     "metadata": {},
     "output_type": "display_data"
    }
   ],
   "source": [
    "Pollution %>% head() # this is messy, do we need to load it a different way?\n",
    "#So multiple problems in reading as a csv. But think we can work with it like this."
   ]
  },
  {
   "cell_type": "code",
   "execution_count": 24,
   "metadata": {},
   "outputs": [
    {
     "name": "stderr",
     "output_type": "stream",
     "text": [
      "Parsed with column specification:\n",
      "cols(\n",
      "  X1 = \u001b[31mcol_character()\u001b[39m,\n",
      "  X2 = \u001b[31mcol_character()\u001b[39m,\n",
      "  X3 = \u001b[31mcol_character()\u001b[39m,\n",
      "  X4 = \u001b[31mcol_character()\u001b[39m,\n",
      "  X5 = \u001b[31mcol_character()\u001b[39m,\n",
      "  X6 = \u001b[31mcol_character()\u001b[39m,\n",
      "  X7 = \u001b[31mcol_character()\u001b[39m,\n",
      "  X8 = \u001b[31mcol_character()\u001b[39m\n",
      ")\n"
     ]
    },
    {
     "data": {
      "text/html": [
       "<table>\n",
       "<caption>A tibble: 6 × 8</caption>\n",
       "<thead>\n",
       "\t<tr><th scope=col>X1</th><th scope=col>X2</th><th scope=col>X3</th><th scope=col>X4</th><th scope=col>X5</th><th scope=col>X6</th><th scope=col>X7</th><th scope=col>X8</th></tr>\n",
       "\t<tr><th scope=col>&lt;chr&gt;</th><th scope=col>&lt;chr&gt;</th><th scope=col>&lt;chr&gt;</th><th scope=col>&lt;chr&gt;</th><th scope=col>&lt;chr&gt;</th><th scope=col>&lt;chr&gt;</th><th scope=col>&lt;chr&gt;</th><th scope=col>&lt;chr&gt;</th></tr>\n",
       "</thead>\n",
       "<tbody>\n",
       "\t<tr><td>Country    </td><td>Cause                          </td><td>Both sexes </td><td>Male       </td><td>Female     </td><td>Both sexes   </td><td>Male         </td><td>Female       </td></tr>\n",
       "\t<tr><td>Afghanistan</td><td>Total                          </td><td>95[ 85–104]</td><td>96[ 85–106]</td><td>95[ 85–104]</td><td>211[ 189–231]</td><td>229[ 205–254]</td><td>195[ 174–214]</td></tr>\n",
       "\t<tr><td>Afghanistan</td><td>Lower respiratory infections   </td><td>31[ 26–36] </td><td>29[ 24–34] </td><td>33[ 27–38] </td><td>32[ 26–36]   </td><td>33[ 27–38]   </td><td>31[ 25–35]   </td></tr>\n",
       "\t<tr><td>Afghanistan</td><td>Trachea, bronchus, lung cancers</td><td>2[ 1–2]    </td><td>2[ 2–3]    </td><td>1[ 1–1]    </td><td>4[ 3–5]      </td><td>6[ 4–7]      </td><td>2[ 2–3]      </td></tr>\n",
       "\t<tr><td>Afghanistan</td><td>Ischaemic heart disease        </td><td>39[ 33–44] </td><td>42[ 36–48] </td><td>35[ 30–39] </td><td>107[ 92–121] </td><td>120[ 103–138]</td><td>94[ 81–106]  </td></tr>\n",
       "\t<tr><td>Afghanistan</td><td>Stroke                         </td><td>16[ 13–18] </td><td>14[ 12–16] </td><td>18[ 15–20] </td><td>45[ 39–52]   </td><td>44[ 37–50]   </td><td>47[ 40–54]   </td></tr>\n",
       "</tbody>\n",
       "</table>\n"
      ],
      "text/latex": [
       "A tibble: 6 × 8\n",
       "\\begin{tabular}{r|llllllll}\n",
       " X1 & X2 & X3 & X4 & X5 & X6 & X7 & X8\\\\\n",
       " <chr> & <chr> & <chr> & <chr> & <chr> & <chr> & <chr> & <chr>\\\\\n",
       "\\hline\n",
       "\t Country     & Cause                           & Both sexes  & Male        & Female      & Both sexes    & Male          & Female       \\\\\n",
       "\t Afghanistan & Total                           & 95{[} 85–104{]} & 96{[} 85–106{]} & 95{[} 85–104{]} & 211{[} 189–231{]} & 229{[} 205–254{]} & 195{[} 174–214{]}\\\\\n",
       "\t Afghanistan & Lower respiratory infections    & 31{[} 26–36{]}  & 29{[} 24–34{]}  & 33{[} 27–38{]}  & 32{[} 26–36{]}    & 33{[} 27–38{]}    & 31{[} 25–35{]}   \\\\\n",
       "\t Afghanistan & Trachea, bronchus, lung cancers & 2{[} 1–2{]}     & 2{[} 2–3{]}     & 1{[} 1–1{]}     & 4{[} 3–5{]}       & 6{[} 4–7{]}       & 2{[} 2–3{]}      \\\\\n",
       "\t Afghanistan & Ischaemic heart disease         & 39{[} 33–44{]}  & 42{[} 36–48{]}  & 35{[} 30–39{]}  & 107{[} 92–121{]}  & 120{[} 103–138{]} & 94{[} 81–106{]}  \\\\\n",
       "\t Afghanistan & Stroke                          & 16{[} 13–18{]}  & 14{[} 12–16{]}  & 18{[} 15–20{]}  & 45{[} 39–52{]}    & 44{[} 37–50{]}    & 47{[} 40–54{]}   \\\\\n",
       "\\end{tabular}\n"
      ],
      "text/markdown": [
       "\n",
       "A tibble: 6 × 8\n",
       "\n",
       "| X1 &lt;chr&gt; | X2 &lt;chr&gt; | X3 &lt;chr&gt; | X4 &lt;chr&gt; | X5 &lt;chr&gt; | X6 &lt;chr&gt; | X7 &lt;chr&gt; | X8 &lt;chr&gt; |\n",
       "|---|---|---|---|---|---|---|---|\n",
       "| Country     | Cause                           | Both sexes  | Male        | Female      | Both sexes    | Male          | Female        |\n",
       "| Afghanistan | Total                           | 95[ 85–104] | 96[ 85–106] | 95[ 85–104] | 211[ 189–231] | 229[ 205–254] | 195[ 174–214] |\n",
       "| Afghanistan | Lower respiratory infections    | 31[ 26–36]  | 29[ 24–34]  | 33[ 27–38]  | 32[ 26–36]    | 33[ 27–38]    | 31[ 25–35]    |\n",
       "| Afghanistan | Trachea, bronchus, lung cancers | 2[ 1–2]     | 2[ 2–3]     | 1[ 1–1]     | 4[ 3–5]       | 6[ 4–7]       | 2[ 2–3]       |\n",
       "| Afghanistan | Ischaemic heart disease         | 39[ 33–44]  | 42[ 36–48]  | 35[ 30–39]  | 107[ 92–121]  | 120[ 103–138] | 94[ 81–106]   |\n",
       "| Afghanistan | Stroke                          | 16[ 13–18]  | 14[ 12–16]  | 18[ 15–20]  | 45[ 39–52]    | 44[ 37–50]    | 47[ 40–54]    |\n",
       "\n"
      ],
      "text/plain": [
       "  X1          X2                              X3          X4         \n",
       "1 Country     Cause                           Both sexes  Male       \n",
       "2 Afghanistan Total                           95[ 85–104] 96[ 85–106]\n",
       "3 Afghanistan Lower respiratory infections    31[ 26–36]  29[ 24–34] \n",
       "4 Afghanistan Trachea, bronchus, lung cancers 2[ 1–2]     2[ 2–3]    \n",
       "5 Afghanistan Ischaemic heart disease         39[ 33–44]  42[ 36–48] \n",
       "6 Afghanistan Stroke                          16[ 13–18]  14[ 12–16] \n",
       "  X5          X6            X7            X8           \n",
       "1 Female      Both sexes    Male          Female       \n",
       "2 95[ 85–104] 211[ 189–231] 229[ 205–254] 195[ 174–214]\n",
       "3 33[ 27–38]  32[ 26–36]    33[ 27–38]    31[ 25–35]   \n",
       "4 1[ 1–1]     4[ 3–5]       6[ 4–7]       2[ 2–3]      \n",
       "5 35[ 30–39]  107[ 92–121]  120[ 103–138] 94[ 81–106]  \n",
       "6 18[ 15–20]  45[ 39–52]    44[ 37–50]    47[ 40–54]   "
      ]
     },
     "metadata": {},
     "output_type": "display_data"
    }
   ],
   "source": [
    "# To start, we can slice of the first two rows as these are not needed, this information can be put in (to be created) read.me file\n",
    "Pollution <- read_csv(\"Pollution.csv\", col_names=FALSE)\n",
    "\n",
    "Pollution <- Pollution %>%\n",
    "    slice(3:length(Pollution))\n",
    "\n",
    "Pollution %>%\n",
    "    head()"
   ]
  },
  {
   "cell_type": "code",
   "execution_count": 25,
   "metadata": {},
   "outputs": [
    {
     "data": {
      "text/html": [
       "<table>\n",
       "<caption>A tibble: 5 × 8</caption>\n",
       "<thead>\n",
       "\t<tr><th scope=col>Country</th><th scope=col>Cause</th><th scope=col>Both_sexes</th><th scope=col>Male</th><th scope=col>Female</th><th scope=col>Both_sexes_standardised</th><th scope=col>Male_standardised</th><th scope=col>Female_standardised</th></tr>\n",
       "\t<tr><th scope=col>&lt;chr&gt;</th><th scope=col>&lt;chr&gt;</th><th scope=col>&lt;chr&gt;</th><th scope=col>&lt;chr&gt;</th><th scope=col>&lt;chr&gt;</th><th scope=col>&lt;chr&gt;</th><th scope=col>&lt;chr&gt;</th><th scope=col>&lt;chr&gt;</th></tr>\n",
       "</thead>\n",
       "<tbody>\n",
       "\t<tr><td>Afghanistan</td><td>Total                          </td><td>95[ 85–104]</td><td>96[ 85–106]</td><td>95[ 85–104]</td><td>211[ 189–231]</td><td>229[ 205–254]</td><td>195[ 174–214]</td></tr>\n",
       "\t<tr><td>Afghanistan</td><td>Lower respiratory infections   </td><td>31[ 26–36] </td><td>29[ 24–34] </td><td>33[ 27–38] </td><td>32[ 26–36]   </td><td>33[ 27–38]   </td><td>31[ 25–35]   </td></tr>\n",
       "\t<tr><td>Afghanistan</td><td>Trachea, bronchus, lung cancers</td><td>2[ 1–2]    </td><td>2[ 2–3]    </td><td>1[ 1–1]    </td><td>4[ 3–5]      </td><td>6[ 4–7]      </td><td>2[ 2–3]      </td></tr>\n",
       "\t<tr><td>Afghanistan</td><td>Ischaemic heart disease        </td><td>39[ 33–44] </td><td>42[ 36–48] </td><td>35[ 30–39] </td><td>107[ 92–121] </td><td>120[ 103–138]</td><td>94[ 81–106]  </td></tr>\n",
       "\t<tr><td>Afghanistan</td><td>Stroke                         </td><td>16[ 13–18] </td><td>14[ 12–16] </td><td>18[ 15–20] </td><td>45[ 39–52]   </td><td>44[ 37–50]   </td><td>47[ 40–54]   </td></tr>\n",
       "</tbody>\n",
       "</table>\n"
      ],
      "text/latex": [
       "A tibble: 5 × 8\n",
       "\\begin{tabular}{r|llllllll}\n",
       " Country & Cause & Both\\_sexes & Male & Female & Both\\_sexes\\_standardised & Male\\_standardised & Female\\_standardised\\\\\n",
       " <chr> & <chr> & <chr> & <chr> & <chr> & <chr> & <chr> & <chr>\\\\\n",
       "\\hline\n",
       "\t Afghanistan & Total                           & 95{[} 85–104{]} & 96{[} 85–106{]} & 95{[} 85–104{]} & 211{[} 189–231{]} & 229{[} 205–254{]} & 195{[} 174–214{]}\\\\\n",
       "\t Afghanistan & Lower respiratory infections    & 31{[} 26–36{]}  & 29{[} 24–34{]}  & 33{[} 27–38{]}  & 32{[} 26–36{]}    & 33{[} 27–38{]}    & 31{[} 25–35{]}   \\\\\n",
       "\t Afghanistan & Trachea, bronchus, lung cancers & 2{[} 1–2{]}     & 2{[} 2–3{]}     & 1{[} 1–1{]}     & 4{[} 3–5{]}       & 6{[} 4–7{]}       & 2{[} 2–3{]}      \\\\\n",
       "\t Afghanistan & Ischaemic heart disease         & 39{[} 33–44{]}  & 42{[} 36–48{]}  & 35{[} 30–39{]}  & 107{[} 92–121{]}  & 120{[} 103–138{]} & 94{[} 81–106{]}  \\\\\n",
       "\t Afghanistan & Stroke                          & 16{[} 13–18{]}  & 14{[} 12–16{]}  & 18{[} 15–20{]}  & 45{[} 39–52{]}    & 44{[} 37–50{]}    & 47{[} 40–54{]}   \\\\\n",
       "\\end{tabular}\n"
      ],
      "text/markdown": [
       "\n",
       "A tibble: 5 × 8\n",
       "\n",
       "| Country &lt;chr&gt; | Cause &lt;chr&gt; | Both_sexes &lt;chr&gt; | Male &lt;chr&gt; | Female &lt;chr&gt; | Both_sexes_standardised &lt;chr&gt; | Male_standardised &lt;chr&gt; | Female_standardised &lt;chr&gt; |\n",
       "|---|---|---|---|---|---|---|---|\n",
       "| Afghanistan | Total                           | 95[ 85–104] | 96[ 85–106] | 95[ 85–104] | 211[ 189–231] | 229[ 205–254] | 195[ 174–214] |\n",
       "| Afghanistan | Lower respiratory infections    | 31[ 26–36]  | 29[ 24–34]  | 33[ 27–38]  | 32[ 26–36]    | 33[ 27–38]    | 31[ 25–35]    |\n",
       "| Afghanistan | Trachea, bronchus, lung cancers | 2[ 1–2]     | 2[ 2–3]     | 1[ 1–1]     | 4[ 3–5]       | 6[ 4–7]       | 2[ 2–3]       |\n",
       "| Afghanistan | Ischaemic heart disease         | 39[ 33–44]  | 42[ 36–48]  | 35[ 30–39]  | 107[ 92–121]  | 120[ 103–138] | 94[ 81–106]   |\n",
       "| Afghanistan | Stroke                          | 16[ 13–18]  | 14[ 12–16]  | 18[ 15–20]  | 45[ 39–52]    | 44[ 37–50]    | 47[ 40–54]    |\n",
       "\n"
      ],
      "text/plain": [
       "  Country     Cause                           Both_sexes  Male       \n",
       "1 Afghanistan Total                           95[ 85–104] 96[ 85–106]\n",
       "2 Afghanistan Lower respiratory infections    31[ 26–36]  29[ 24–34] \n",
       "3 Afghanistan Trachea, bronchus, lung cancers 2[ 1–2]     2[ 2–3]    \n",
       "4 Afghanistan Ischaemic heart disease         39[ 33–44]  42[ 36–48] \n",
       "5 Afghanistan Stroke                          16[ 13–18]  14[ 12–16] \n",
       "  Female      Both_sexes_standardised Male_standardised Female_standardised\n",
       "1 95[ 85–104] 211[ 189–231]           229[ 205–254]     195[ 174–214]      \n",
       "2 33[ 27–38]  32[ 26–36]              33[ 27–38]        31[ 25–35]         \n",
       "3 1[ 1–1]     4[ 3–5]                 6[ 4–7]           2[ 2–3]            \n",
       "4 35[ 30–39]  107[ 92–121]            120[ 103–138]     94[ 81–106]        \n",
       "5 18[ 15–20]  45[ 39–52]              44[ 37–50]        47[ 40–54]         "
      ]
     },
     "metadata": {},
     "output_type": "display_data"
    }
   ],
   "source": [
    "# Cool, but we still need to remove/make first row the column names\n",
    "Pollution <- Pollution %>%\n",
    "    rename(\n",
    "        Country = X1,\n",
    "        Cause = X2,\n",
    "        Both_sexes = X3,\n",
    "        Male = X4,\n",
    "        Female = X5,\n",
    "        Both_sexes_standardised = X6,\n",
    "        Male_standardised = X7,\n",
    "        Female_standardised = X8\n",
    "    ) %>%\n",
    "    slice(2:length(Pollution))\n",
    "\n",
    "Pollution %>% head()"
   ]
  },
  {
   "cell_type": "code",
   "execution_count": 38,
   "metadata": {},
   "outputs": [
    {
     "data": {
      "text/html": [
       "<table>\n",
       "<caption>A tibble: 5 × 11</caption>\n",
       "<thead>\n",
       "\t<tr><th scope=col>Country</th><th scope=col>Cause</th><th scope=col>Both_sexes</th><th scope=col>Male</th><th scope=col>Female</th><th scope=col>Both_sexes_standardised</th><th scope=col>Male_standardised</th><th scope=col>Female_standardised</th><th scope=col>Both_sexes_value</th><th scope=col>Both_sexes_lower</th><th scope=col>Both_sexes_upper</th></tr>\n",
       "\t<tr><th scope=col>&lt;chr&gt;</th><th scope=col>&lt;chr&gt;</th><th scope=col>&lt;chr&gt;</th><th scope=col>&lt;chr&gt;</th><th scope=col>&lt;chr&gt;</th><th scope=col>&lt;chr&gt;</th><th scope=col>&lt;chr&gt;</th><th scope=col>&lt;chr&gt;</th><th scope=col>&lt;chr&gt;</th><th scope=col>&lt;chr&gt;</th><th scope=col>&lt;chr&gt;</th></tr>\n",
       "</thead>\n",
       "<tbody>\n",
       "\t<tr><td>Afghanistan</td><td>Total                          </td><td>95[ 85–104]</td><td>96[ 85–106]</td><td>95[ 85–104]</td><td>211[ 189–231]</td><td>229[ 205–254]</td><td>195[ 174–214]</td><td>95</td><td>NA</td><td>9</td></tr>\n",
       "\t<tr><td>Afghanistan</td><td>Lower respiratory infections   </td><td>31[ 26–36] </td><td>29[ 24–34] </td><td>33[ 27–38] </td><td>32[ 26–36]   </td><td>33[ 27–38]   </td><td>31[ 25–35]   </td><td>31</td><td>NA</td><td>3</td></tr>\n",
       "\t<tr><td>Afghanistan</td><td>Trachea, bronchus, lung cancers</td><td>2[ 1–2]    </td><td>2[ 2–3]    </td><td>1[ 1–1]    </td><td>4[ 3–5]      </td><td>6[ 4–7]      </td><td>2[ 2–3]      </td><td>2 </td><td>NA</td><td>2</td></tr>\n",
       "\t<tr><td>Afghanistan</td><td>Ischaemic heart disease        </td><td>39[ 33–44] </td><td>42[ 36–48] </td><td>35[ 30–39] </td><td>107[ 92–121] </td><td>120[ 103–138]</td><td>94[ 81–106]  </td><td>39</td><td>NA</td><td>3</td></tr>\n",
       "\t<tr><td>Afghanistan</td><td>Stroke                         </td><td>16[ 13–18] </td><td>14[ 12–16] </td><td>18[ 15–20] </td><td>45[ 39–52]   </td><td>44[ 37–50]   </td><td>47[ 40–54]   </td><td>16</td><td>NA</td><td>1</td></tr>\n",
       "</tbody>\n",
       "</table>\n"
      ],
      "text/latex": [
       "A tibble: 5 × 11\n",
       "\\begin{tabular}{r|lllllllllll}\n",
       " Country & Cause & Both\\_sexes & Male & Female & Both\\_sexes\\_standardised & Male\\_standardised & Female\\_standardised & Both\\_sexes\\_value & Both\\_sexes\\_lower & Both\\_sexes\\_upper\\\\\n",
       " <chr> & <chr> & <chr> & <chr> & <chr> & <chr> & <chr> & <chr> & <chr> & <chr> & <chr>\\\\\n",
       "\\hline\n",
       "\t Afghanistan & Total                           & 95{[} 85–104{]} & 96{[} 85–106{]} & 95{[} 85–104{]} & 211{[} 189–231{]} & 229{[} 205–254{]} & 195{[} 174–214{]} & 95 & NA & 9\\\\\n",
       "\t Afghanistan & Lower respiratory infections    & 31{[} 26–36{]}  & 29{[} 24–34{]}  & 33{[} 27–38{]}  & 32{[} 26–36{]}    & 33{[} 27–38{]}    & 31{[} 25–35{]}    & 31 & NA & 3\\\\\n",
       "\t Afghanistan & Trachea, bronchus, lung cancers & 2{[} 1–2{]}     & 2{[} 2–3{]}     & 1{[} 1–1{]}     & 4{[} 3–5{]}       & 6{[} 4–7{]}       & 2{[} 2–3{]}       & 2  & NA & 2\\\\\n",
       "\t Afghanistan & Ischaemic heart disease         & 39{[} 33–44{]}  & 42{[} 36–48{]}  & 35{[} 30–39{]}  & 107{[} 92–121{]}  & 120{[} 103–138{]} & 94{[} 81–106{]}   & 39 & NA & 3\\\\\n",
       "\t Afghanistan & Stroke                          & 16{[} 13–18{]}  & 14{[} 12–16{]}  & 18{[} 15–20{]}  & 45{[} 39–52{]}    & 44{[} 37–50{]}    & 47{[} 40–54{]}    & 16 & NA & 1\\\\\n",
       "\\end{tabular}\n"
      ],
      "text/markdown": [
       "\n",
       "A tibble: 5 × 11\n",
       "\n",
       "| Country &lt;chr&gt; | Cause &lt;chr&gt; | Both_sexes &lt;chr&gt; | Male &lt;chr&gt; | Female &lt;chr&gt; | Both_sexes_standardised &lt;chr&gt; | Male_standardised &lt;chr&gt; | Female_standardised &lt;chr&gt; | Both_sexes_value &lt;chr&gt; | Both_sexes_lower &lt;chr&gt; | Both_sexes_upper &lt;chr&gt; |\n",
       "|---|---|---|---|---|---|---|---|---|---|---|\n",
       "| Afghanistan | Total                           | 95[ 85–104] | 96[ 85–106] | 95[ 85–104] | 211[ 189–231] | 229[ 205–254] | 195[ 174–214] | 95 | NA | 9 |\n",
       "| Afghanistan | Lower respiratory infections    | 31[ 26–36]  | 29[ 24–34]  | 33[ 27–38]  | 32[ 26–36]    | 33[ 27–38]    | 31[ 25–35]    | 31 | NA | 3 |\n",
       "| Afghanistan | Trachea, bronchus, lung cancers | 2[ 1–2]     | 2[ 2–3]     | 1[ 1–1]     | 4[ 3–5]       | 6[ 4–7]       | 2[ 2–3]       | 2  | NA | 2 |\n",
       "| Afghanistan | Ischaemic heart disease         | 39[ 33–44]  | 42[ 36–48]  | 35[ 30–39]  | 107[ 92–121]  | 120[ 103–138] | 94[ 81–106]   | 39 | NA | 3 |\n",
       "| Afghanistan | Stroke                          | 16[ 13–18]  | 14[ 12–16]  | 18[ 15–20]  | 45[ 39–52]    | 44[ 37–50]    | 47[ 40–54]    | 16 | NA | 1 |\n",
       "\n"
      ],
      "text/plain": [
       "  Country     Cause                           Both_sexes  Male       \n",
       "1 Afghanistan Total                           95[ 85–104] 96[ 85–106]\n",
       "2 Afghanistan Lower respiratory infections    31[ 26–36]  29[ 24–34] \n",
       "3 Afghanistan Trachea, bronchus, lung cancers 2[ 1–2]     2[ 2–3]    \n",
       "4 Afghanistan Ischaemic heart disease         39[ 33–44]  42[ 36–48] \n",
       "5 Afghanistan Stroke                          16[ 13–18]  14[ 12–16] \n",
       "  Female      Both_sexes_standardised Male_standardised Female_standardised\n",
       "1 95[ 85–104] 211[ 189–231]           229[ 205–254]     195[ 174–214]      \n",
       "2 33[ 27–38]  32[ 26–36]              33[ 27–38]        31[ 25–35]         \n",
       "3 1[ 1–1]     4[ 3–5]                 6[ 4–7]           2[ 2–3]            \n",
       "4 35[ 30–39]  107[ 92–121]            120[ 103–138]     94[ 81–106]        \n",
       "5 18[ 15–20]  45[ 39–52]              44[ 37–50]        47[ 40–54]         \n",
       "  Both_sexes_value Both_sexes_lower Both_sexes_upper\n",
       "1 95               NA               9               \n",
       "2 31               NA               3               \n",
       "3 2                NA               2               \n",
       "4 39               NA               3               \n",
       "5 16               NA               1               "
      ]
     },
     "metadata": {},
     "output_type": "display_data"
    }
   ],
   "source": [
    "# Idea: fix numbers first then any filtering and creating new data frames will use already fixed numbers?\n",
    "# Will need to use regex and string_extract\n",
    "Pollution <- Pollution %>%\n",
    "    mutate(\n",
    "        Both_sexes_value = str_extract(Both_sexes, \"\\\\d+\"),\n",
    "        Both_sexes_lower = str_extract(Both_sexes, \"\"), #need to change\n",
    "        Both_sexes_upper = str_extract(Both_sexes, \"\"), #need to change\n",
    "          )\n",
    "\n",
    "Pollution %>% head()"
   ]
  },
  {
   "cell_type": "code",
   "execution_count": null,
   "metadata": {},
   "outputs": [],
   "source": []
  }
 ],
 "metadata": {
  "kernelspec": {
   "display_name": "R",
   "language": "R",
   "name": "ir"
  },
  "language_info": {
   "codemirror_mode": "r",
   "file_extension": ".r",
   "mimetype": "text/x-r-source",
   "name": "R",
   "pygments_lexer": "r",
   "version": "3.4.4"
  }
 },
 "nbformat": 4,
 "nbformat_minor": 4
}
